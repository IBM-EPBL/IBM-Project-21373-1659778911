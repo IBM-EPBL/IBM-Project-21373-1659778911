{
  "nbformat": 4,
  "nbformat_minor": 0,
  "metadata": {
    "colab": {
      "provenance": [],
      "collapsed_sections": []
    },
    "kernelspec": {
      "name": "python3",
      "display_name": "Python 3"
    },
    "language_info": {
      "name": "python"
    }
  },
  "cells": [
    {
      "cell_type": "code",
      "source": [
        "import numpy as np\n",
        "import pandas as pd\n",
        "import matplotlib.pyplot as plt\n",
        "import seaborn as sns\n",
        "import sklearn\n",
        "from sklearn.preprocessing import LabelEncoder\n",
        "from sklearn.preprocessing import MinMaxScaler\n",
        "\n",
        "import joblib\n",
        "import pickle\n",
        "    \n",
        "%matplotlib inline"
      ],
      "metadata": {
        "id": "8dJ2LbRVePkb"
      },
      "execution_count": 15,
      "outputs": []
    }
  ]
}